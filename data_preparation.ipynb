{
 "cells": [
  {
   "cell_type": "code",
   "execution_count": 1,
   "metadata": {},
   "outputs": [],
   "source": [
    "import numpy as np\n",
    "import pandas as pd\n",
    "from obspy import read\n",
    "from datetime import datetime, timedelta\n",
    "import matplotlib.pyplot as plt\n",
    "import os\n",
    "import glob"
   ]
  },
  {
   "cell_type": "markdown",
   "metadata": {},
   "source": [
    "### Open Data"
   ]
  },
  {
   "cell_type": "code",
   "execution_count": 103,
   "metadata": {},
   "outputs": [],
   "source": [
    "def get_data_from_mseed(training_path, csv_file):\n",
    "    mseed_files = glob.glob(os.path.join(training_path, \"*.mseed\"))\n",
    "    data_list = []\n",
    "    target_df = pd.read_csv(csv_file)\n",
    "\n",
    "    for mseed_file in mseed_files:\n",
    "        stream = read(mseed_file)\n",
    "        filename = os.path.basename(mseed_file).rstrip(\".mseed\")\n",
    "        # print(f\"Processing: {filename}\")\n",
    "        \n",
    "        if 'filename' not in target_df.columns or 'time_rel(sec)' not in target_df.columns:\n",
    "            # print(f\"Error: Columns 'filename' or 'time_rel(sec)' not found in target DataFrame.\")\n",
    "            continue\n",
    "        \n",
    "        target_df['filename'] = target_df['filename'].str.replace('.csv', '', regex=False)\n",
    "        matching_rows = target_df[target_df['filename'] == filename]\n",
    "        if matching_rows.empty:\n",
    "            # print(f\"Warning: No matching filename found in the target DataFrame for {filename}. Skipping this file.\")\n",
    "            continue\n",
    "\n",
    "        try:\n",
    "            target = matching_rows['time_rel(sec)'].iloc[0]\n",
    "        except IndexError:\n",
    "            # print(f\"Error: No 'time_rel(sec)' value found for filename {filename}. Skipping this file.\")\n",
    "            continue\n",
    "\n",
    "        for trace in stream:\n",
    "            row = {\n",
    "                \"file_name\": filename,  # File name without path\n",
    "                \"rel_times\": trace.times(),\n",
    "                \"data\": trace.data,\n",
    "                \"start_time\": trace.stats.starttime,  # Absolute start time\n",
    "                \"end_time\": trace.stats.endtime,      # Absolute end time\n",
    "                \"target\": target,                     # Target value for the filename\n",
    "            }\n",
    "            data_list.append(row)\n",
    "\n",
    "    df = pd.DataFrame(data_list)\n",
    "    # print(\"Final DataFrame:\\n\", df)\n",
    "    return df"
   ]
  },
  {
   "cell_type": "code",
   "execution_count": 112,
   "metadata": {},
   "outputs": [
    {
     "name": "stdout",
     "output_type": "stream",
     "text": [
      "                                  file_name  \\\n",
      "0    xa.s12.00.mhz.1970-01-19HR00_evid00002   \n",
      "1    xa.s12.00.mhz.1970-03-25HR00_evid00003   \n",
      "2    xa.s12.00.mhz.1970-03-26HR00_evid00004   \n",
      "3    xa.s12.00.mhz.1970-04-25HR00_evid00006   \n",
      "4    xa.s12.00.mhz.1970-04-26HR00_evid00007   \n",
      "..                                      ...   \n",
      "72   xa.s12.00.mhz.1975-05-04HR00_evid00192   \n",
      "73   xa.s12.00.mhz.1975-06-24HR00_evid00196   \n",
      "74   xa.s12.00.mhz.1975-06-26HR00_evid00198   \n",
      "75  XB.ELYSE.02.BHV.2022-01-02HR04_evid0006   \n",
      "76  XB.ELYSE.02.BHV.2022-02-03HR08_evid0005   \n",
      "\n",
      "                                            rel_times  \\\n",
      "0   [0.0, 0.1509433962264151, 0.3018867924528302, ...   \n",
      "1   [0.0, 0.1509433962264151, 0.3018867924528302, ...   \n",
      "2   [0.0, 0.1509433962264151, 0.3018867924528302, ...   \n",
      "3   [0.0, 0.1509433962264151, 0.3018867924528302, ...   \n",
      "4   [0.0, 0.1509433962264151, 0.3018867924528302, ...   \n",
      "..                                                ...   \n",
      "72  [0.0, 0.1509433962264151, 0.3018867924528302, ...   \n",
      "73  [0.0, 0.1509433962264151, 0.3018867924528302, ...   \n",
      "74  [0.0, 0.1509433962264151, 0.3018867924528302, ...   \n",
      "75  [0.0, 0.05, 0.1, 0.15, 0.2, 0.25, 0.3, 0.35, 0...   \n",
      "76  [0.0, 0.05, 0.1, 0.15, 0.2, 0.25, 0.3, 0.35, 0...   \n",
      "\n",
      "                                                 data  \\\n",
      "0   [-6.153278962788711e-14, -7.70128843364098e-14...   \n",
      "1   [-5.481780117043957e-15, -6.8786525555433944e-...   \n",
      "2   [-2.8212463353274306e-14, -3.523317065258157e-...   \n",
      "3   [9.01642264710853e-15, 1.1305708384819468e-14,...   \n",
      "4   [-1.5835653822406575e-16, -1.8729952083938931e...   \n",
      "..                                                ...   \n",
      "72  [8.378883424796289e-17, 7.740468608984878e-17,...   \n",
      "73  [1.1799114775093933e-14, 1.4887247521375698e-1...   \n",
      "74  [-1.932693410594629e-15, -2.417374307376486e-1...   \n",
      "75  [0.0, 0.0005027416016689591, 0.003634534277612...   \n",
      "76  [0.0, 0.0001281992489845852, 0.000703448777271...   \n",
      "\n",
      "                     start_time                     end_time   target  \n",
      "0   1970-01-19T00:00:00.665000Z  1970-01-20T00:00:02.778208Z  73500.0  \n",
      "1   1970-03-25T00:00:00.440000Z  1970-03-26T00:00:01.949434Z  12720.0  \n",
      "2   1970-03-26T00:00:00.565000Z  1970-03-27T00:00:02.074434Z  73020.0  \n",
      "3   1970-04-25T00:00:00.196000Z  1970-04-26T00:00:02.309208Z   4440.0  \n",
      "4   1970-04-26T00:00:00.660000Z  1970-04-27T00:00:02.169434Z  52140.0  \n",
      "..                          ...                          ...      ...  \n",
      "72  1975-05-04T00:00:00.457000Z  1975-05-05T00:00:03.023038Z  36300.0  \n",
      "73  1975-06-24T00:00:00.239000Z  1975-06-25T00:00:01.748434Z  57780.0  \n",
      "74  1975-06-26T00:00:00.542000Z  1975-06-27T00:00:01.447660Z  12240.0  \n",
      "75  2022-01-02T04:00:00.025000Z  2022-01-02T04:59:59.975000Z   2130.0  \n",
      "76  2022-02-03T08:00:00.009000Z  2022-02-03T08:59:59.959000Z    507.0  \n",
      "\n",
      "[77 rows x 6 columns]\n"
     ]
    }
   ],
   "source": [
    "def get_data(training_folders, catalog_folders):\n",
    "    df = pd.DataFrame()\n",
    "    for training_folder, catalog_folder in zip(training_folders, catalog_folders):\n",
    "        new_df = get_data_from_mseed(training_folder, catalog_folder)\n",
    "        df = pd.concat([df, new_df], axis=0, ignore_index=True)\n",
    "    print(df)\n",
    "    return df\n",
    "\n",
    "train_data = get_data(['./data/lunar/training/data/S12_GradeA', './data/mars/training/data/'], \n",
    "                      ['./data/lunar/training/catalogs/apollo12_catalog_GradeA_final.csv', './data/mars/training/catalogs/Mars_InSight_training_catalog_final.csv'])"
   ]
  }
 ],
 "metadata": {
  "kernelspec": {
   "display_name": ".venv",
   "language": "python",
   "name": "python3"
  },
  "language_info": {
   "codemirror_mode": {
    "name": "ipython",
    "version": 3
   },
   "file_extension": ".py",
   "mimetype": "text/x-python",
   "name": "python",
   "nbconvert_exporter": "python",
   "pygments_lexer": "ipython3",
   "version": "3.10.6"
  }
 },
 "nbformat": 4,
 "nbformat_minor": 2
}
