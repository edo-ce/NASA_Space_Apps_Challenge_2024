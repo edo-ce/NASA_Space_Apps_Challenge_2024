{
 "cells": [
  {
   "cell_type": "code",
   "execution_count": 70,
   "metadata": {},
   "outputs": [],
   "source": [
    "import numpy as np\n",
    "import pandas as pd\n",
    "from obspy import read\n",
    "from datetime import datetime, timedelta\n",
    "import matplotlib.pyplot as plt\n",
    "import os\n",
    "import glob"
   ]
  },
  {
   "cell_type": "markdown",
   "metadata": {},
   "source": [
    "### Open Data"
   ]
  },
  {
   "cell_type": "code",
   "execution_count": 71,
   "metadata": {},
   "outputs": [],
   "source": [
    "def get_data_from_mseed(training_path, csv_file):\n",
    "    mseed_files = glob.glob(os.path.join(training_path, \"*.mseed\"))\n",
    "    data_list = []\n",
    "    target_df = pd.read_csv(csv_file)\n",
    "\n",
    "    for mseed_file in mseed_files:\n",
    "        stream = read(mseed_file)\n",
    "        filename = os.path.basename(mseed_file).rstrip(\".mseed\")\n",
    "        # print(f\"Processing: {filename}\")\n",
    "        \n",
    "        if 'filename' not in target_df.columns or 'time_rel(sec)' not in target_df.columns:\n",
    "            # print(f\"Error: Columns 'filename' or 'time_rel(sec)' not found in target DataFrame.\")\n",
    "            continue\n",
    "        \n",
    "        target_df['filename'] = target_df['filename'].str.replace('.csv', '', regex=False)\n",
    "        matching_rows = target_df[target_df['filename'] == filename]\n",
    "        if matching_rows.empty:\n",
    "            # print(f\"Warning: No matching filename found in the target DataFrame for {filename}. Skipping this file.\")\n",
    "            continue\n",
    "\n",
    "        try:\n",
    "            target = matching_rows['time_rel(sec)'].iloc[0]\n",
    "        except IndexError:\n",
    "            # print(f\"Error: No 'time_rel(sec)' value found for filename {filename}. Skipping this file.\")\n",
    "            continue\n",
    "\n",
    "        for trace in stream:\n",
    "            row = {\n",
    "                \"file_name\": filename,  # File name without path\n",
    "                \"rel_times\": trace.times(),\n",
    "                \"data\": trace.data,\n",
    "                \"start_time\": trace.stats.starttime,  # Absolute start time\n",
    "                \"end_time\": trace.stats.endtime,      # Absolute end time\n",
    "                \"target\": target,                     # Target value for the filename\n",
    "            }\n",
    "            data_list.append(row)\n",
    "\n",
    "    df = pd.DataFrame(data_list)\n",
    "    # print(\"Final DataFrame:\\n\", df)\n",
    "    return df"
   ]
  },
  {
   "cell_type": "code",
   "execution_count": 72,
   "metadata": {},
   "outputs": [
    {
     "name": "stdout",
     "output_type": "stream",
     "text": [
      "                                  file_name  \\\n",
      "0    xa.s12.00.mhz.1970-01-19HR00_evid00002   \n",
      "1    xa.s12.00.mhz.1970-03-25HR00_evid00003   \n",
      "2    xa.s12.00.mhz.1970-03-26HR00_evid00004   \n",
      "3    xa.s12.00.mhz.1970-04-25HR00_evid00006   \n",
      "4    xa.s12.00.mhz.1970-04-26HR00_evid00007   \n",
      "..                                      ...   \n",
      "72   xa.s12.00.mhz.1975-05-04HR00_evid00192   \n",
      "73   xa.s12.00.mhz.1975-06-24HR00_evid00196   \n",
      "74   xa.s12.00.mhz.1975-06-26HR00_evid00198   \n",
      "75  XB.ELYSE.02.BHV.2022-01-02HR04_evid0006   \n",
      "76  XB.ELYSE.02.BHV.2022-02-03HR08_evid0005   \n",
      "\n",
      "                                            rel_times  \\\n",
      "0   [0.0, 0.1509433962264151, 0.3018867924528302, ...   \n",
      "1   [0.0, 0.1509433962264151, 0.3018867924528302, ...   \n",
      "2   [0.0, 0.1509433962264151, 0.3018867924528302, ...   \n",
      "3   [0.0, 0.1509433962264151, 0.3018867924528302, ...   \n",
      "4   [0.0, 0.1509433962264151, 0.3018867924528302, ...   \n",
      "..                                                ...   \n",
      "72  [0.0, 0.1509433962264151, 0.3018867924528302, ...   \n",
      "73  [0.0, 0.1509433962264151, 0.3018867924528302, ...   \n",
      "74  [0.0, 0.1509433962264151, 0.3018867924528302, ...   \n",
      "75  [0.0, 0.05, 0.1, 0.15, 0.2, 0.25, 0.3, 0.35, 0...   \n",
      "76  [0.0, 0.05, 0.1, 0.15, 0.2, 0.25, 0.3, 0.35, 0...   \n",
      "\n",
      "                                                 data  \\\n",
      "0   [-6.153278962788711e-14, -7.70128843364098e-14...   \n",
      "1   [-5.481780117043957e-15, -6.8786525555433944e-...   \n",
      "2   [-2.8212463353274306e-14, -3.523317065258157e-...   \n",
      "3   [9.01642264710853e-15, 1.1305708384819468e-14,...   \n",
      "4   [-1.5835653822406575e-16, -1.8729952083938931e...   \n",
      "..                                                ...   \n",
      "72  [8.378883424796289e-17, 7.740468608984878e-17,...   \n",
      "73  [1.1799114775093933e-14, 1.4887247521375698e-1...   \n",
      "74  [-1.932693410594629e-15, -2.417374307376486e-1...   \n",
      "75  [0.0, 0.0005027416016689591, 0.003634534277612...   \n",
      "76  [0.0, 0.0001281992489845852, 0.000703448777271...   \n",
      "\n",
      "                     start_time                     end_time   target  \n",
      "0   1970-01-19T00:00:00.665000Z  1970-01-20T00:00:02.778208Z  73500.0  \n",
      "1   1970-03-25T00:00:00.440000Z  1970-03-26T00:00:01.949434Z  12720.0  \n",
      "2   1970-03-26T00:00:00.565000Z  1970-03-27T00:00:02.074434Z  73020.0  \n",
      "3   1970-04-25T00:00:00.196000Z  1970-04-26T00:00:02.309208Z   4440.0  \n",
      "4   1970-04-26T00:00:00.660000Z  1970-04-27T00:00:02.169434Z  52140.0  \n",
      "..                          ...                          ...      ...  \n",
      "72  1975-05-04T00:00:00.457000Z  1975-05-05T00:00:03.023038Z  36300.0  \n",
      "73  1975-06-24T00:00:00.239000Z  1975-06-25T00:00:01.748434Z  57780.0  \n",
      "74  1975-06-26T00:00:00.542000Z  1975-06-27T00:00:01.447660Z  12240.0  \n",
      "75  2022-01-02T04:00:00.025000Z  2022-01-02T04:59:59.975000Z   2130.0  \n",
      "76  2022-02-03T08:00:00.009000Z  2022-02-03T08:59:59.959000Z    507.0  \n",
      "\n",
      "[77 rows x 6 columns]\n"
     ]
    }
   ],
   "source": [
    "def get_data(training_folders, catalog_folders):\n",
    "    df = pd.DataFrame()\n",
    "    for training_folder, catalog_folder in zip(training_folders, catalog_folders):\n",
    "        new_df = get_data_from_mseed(training_folder, catalog_folder)\n",
    "        df = pd.concat([df, new_df], axis=0, ignore_index=True)\n",
    "    print(df)\n",
    "    return df\n",
    "\n",
    "train_data = get_data(['./data/lunar/training/data/S12_GradeA/', './data/mars/training/data/'], \n",
    "                      ['./data/lunar/training/catalogs/apollo12_catalog_GradeA_final.csv', './data/mars/training/catalogs/Mars_InSight_training_catalog_final.csv'])"
   ]
  },
  {
   "cell_type": "code",
   "execution_count": 73,
   "metadata": {},
   "outputs": [],
   "source": [
    "def get_data_from_mseed_test(test_path):\n",
    "    mseed_files = glob.glob(os.path.join(test_path, \"*.mseed\"))\n",
    "    data_list = []\n",
    "\n",
    "    for mseed_file in mseed_files:\n",
    "        stream = read(mseed_file)\n",
    "        filename = os.path.basename(mseed_file).rstrip(\".mseed\")\n",
    "        # print(f\"Processing: {filename}\")\n",
    "\n",
    "        for trace in stream:\n",
    "            row = {\n",
    "                \"file_name\": filename,  # File name without path\n",
    "                \"rel_times\": trace.times(),\n",
    "                \"data\": trace.data,\n",
    "                \"start_time\": trace.stats.starttime,  # Absolute start time\n",
    "                \"end_time\": trace.stats.endtime,      # Absolute end time\n",
    "            }\n",
    "            data_list.append(row)\n",
    "\n",
    "    df = pd.DataFrame(data_list)\n",
    "    # print(\"Final DataFrame:\\n\", df)\n",
    "    return df"
   ]
  },
  {
   "cell_type": "code",
   "execution_count": 74,
   "metadata": {},
   "outputs": [
    {
     "name": "stdout",
     "output_type": "stream",
     "text": [
      "                                   file_name  \\\n",
      "0     xa.s12.00.mhz.1969-12-16HR00_evid00006   \n",
      "1     xa.s12.00.mhz.1970-01-09HR00_evid00007   \n",
      "2     xa.s12.00.mhz.1970-02-07HR00_evid00014   \n",
      "3     xa.s12.00.mhz.1970-02-18HR00_evid00016   \n",
      "4     xa.s12.00.mhz.1970-03-14HR00_evid00018   \n",
      "..                                       ...   \n",
      "100  XB.ELYSE.02.BHV.2021-05-02HR01_evid0017   \n",
      "101  XB.ELYSE.02.BHV.2021-10-11HR23_evid0011   \n",
      "102  XB.ELYSE.02.BHV.2021-12-24HR22_evid0007   \n",
      "103  XB.ELYSE.02.BHV.2022-04-09HR22_evid0002   \n",
      "104  XB.ELYSE.02.BHV.2022-05-04HR23_evid0001   \n",
      "\n",
      "                                             rel_times  \\\n",
      "0    [0.0, 0.1509433962264151, 0.3018867924528302, ...   \n",
      "1    [0.0, 0.1509433962264151, 0.3018867924528302, ...   \n",
      "2    [0.0, 0.1509433962264151, 0.3018867924528302, ...   \n",
      "3    [0.0, 0.1509433962264151, 0.3018867924528302, ...   \n",
      "4    [0.0, 0.1509433962264151, 0.3018867924528302, ...   \n",
      "..                                                 ...   \n",
      "100  [0.0, 0.05, 0.1, 0.15, 0.2, 0.25, 0.3, 0.35, 0...   \n",
      "101  [0.0, 0.05, 0.1, 0.15, 0.2, 0.25, 0.3, 0.35, 0...   \n",
      "102  [0.0, 0.05, 0.1, 0.15, 0.2, 0.25, 0.3, 0.35, 0...   \n",
      "103  [0.0, 0.05, 0.1, 0.15, 0.2, 0.25, 0.3, 0.35, 0...   \n",
      "104  [0.0, 0.05, 0.1, 0.15, 0.2, 0.25, 0.3, 0.35, 0...   \n",
      "\n",
      "                                                  data  \\\n",
      "0    [0.0, -5.57693957027173e-15, -1.11538791405434...   \n",
      "1    [-1.0777682539631116e-14, -1.3543871789393292e...   \n",
      "2    [8.964501148314066e-15, 1.017825387324399e-14,...   \n",
      "3    [9.853050361742149e-14, 1.2330019737739196e-13...   \n",
      "4    [-9.446984331822866e-16, -1.214790402959833e-1...   \n",
      "..                                                 ...   \n",
      "100  [0.0, 0.0001445391690849273, 0.001533005468421...   \n",
      "101  [0.0, 0.0008688291210824519, 0.006072897068275...   \n",
      "102  [0.0, 0.002882599716235456, 0.0054220651000912...   \n",
      "103  [0.0, 0.00028421692670263965, 0.00104010046988...   \n",
      "104  [0.0, 0.0040756193600632535, 0.007310300940710...   \n",
      "\n",
      "                      start_time                     end_time  \n",
      "0    1969-12-16T00:00:00.178000Z  1969-12-17T00:00:03.498755Z  \n",
      "1    1970-01-09T00:00:00.126000Z  1970-01-10T00:00:03.446755Z  \n",
      "2    1970-02-07T00:00:00.571000Z  1970-02-08T00:00:03.891755Z  \n",
      "3    1970-02-18T00:00:00.149000Z  1970-02-19T00:00:02.262208Z  \n",
      "4    1970-03-14T00:00:00.520000Z  1970-03-15T00:00:03.840755Z  \n",
      "..                           ...                          ...  \n",
      "100  2021-05-02T01:00:00.025000Z  2021-05-02T01:59:59.975000Z  \n",
      "101  2021-10-11T23:00:00.039000Z  2021-10-11T23:59:59.989000Z  \n",
      "102  2021-12-24T22:00:00.041000Z  2021-12-24T22:59:59.991000Z  \n",
      "103  2022-04-09T22:00:00.035000Z  2022-04-09T22:59:59.985000Z  \n",
      "104  2022-05-04T23:00:00.048000Z  2022-05-04T23:59:59.948000Z  \n",
      "\n",
      "[105 rows x 5 columns]\n"
     ]
    }
   ],
   "source": [
    "def get_test_data(test_folders):\n",
    "    df = pd.DataFrame()\n",
    "    for test_folder in test_folders:\n",
    "        new_df = get_data_from_mseed_test(test_folder)\n",
    "        df = pd.concat([df, new_df], axis=0, ignore_index=True)\n",
    "    print(df)\n",
    "    return df\n",
    "\n",
    "test_data = get_test_data(['./data/lunar/test/data/S12_GradeB/', './data/lunar/test/data/S15_GradeA/', './data/lunar/test/data/S15_GradeB/', \n",
    "                           './data/lunar/test/data/S16_GradeA/', './data/lunar/test/data/S16_GradeB/', './data/mars/test/data/'])"
   ]
  },
  {
   "cell_type": "code",
   "execution_count": 60,
   "metadata": {},
   "outputs": [],
   "source": [
    "def display_sample(df, rand=True):\n",
    "    random_row = df.sample(n=1) if rand else df.sample(n=1, random_state=42)\n",
    "    plt.figure(figsize=(8, 6))\n",
    "    row = random_row.iloc[0]\n",
    "\n",
    "    fig,ax = plt.subplots(1,1,figsize=(10,3))\n",
    "    ax.plot(row['rel_times'], row['data'])\n",
    "    try:\n",
    "        ax.axvline(x = row['target'], color='red',label='Rel. Arrival')\n",
    "        ax.legend(loc='upper left')\n",
    "    except:\n",
    "        print('No target in this row')\n",
    "    ax.set_xlim([min(row['rel_times']),max(row['rel_times'])])\n",
    "    ax.set_ylabel('Velocity (m/s)')\n",
    "    ax.set_xlabel('Time (s)')\n",
    "    ax.set_title(row['file_name'], fontweight='bold')"
   ]
  },
  {
   "cell_type": "code",
   "execution_count": 64,
   "metadata": {},
   "outputs": [
    {
     "data": {
      "text/plain": [
       "<Figure size 800x600 with 0 Axes>"
      ]
     },
     "metadata": {},
     "output_type": "display_data"
    },
    {
     "data": {
      "image/png": "[encoded data removed]",
      "text/plain": [
       "<Figure size 1000x300 with 1 Axes>"
      ]
     },
     "metadata": {},
     "output_type": "display_data"
    }
   ],
   "source": [
    "display_sample(train_data)"
   ]
  },
  {
   "cell_type": "code",
   "execution_count": 69,
   "metadata": {},
   "outputs": [
    {
     "name": "stdout",
     "output_type": "stream",
     "text": [
      "<class 'obspy.core.stream.Stream'>\n",
      "1 Trace(s) in Stream:\n",
      "PB.B921..EH1 | 2020-09-01T00:00:00.008300Z - 2020-09-01T23:59:59.998300Z | 100.0 Hz, 8640000 samples\n",
      "         network: PB\n",
      "         station: B921\n",
      "        location: \n",
      "         channel: EH1\n",
      "       starttime: 2020-09-01T00:00:00.008300Z\n",
      "         endtime: 2020-09-01T23:59:59.998300Z\n",
      "   sampling_rate: 100.0\n",
      "           delta: 0.01\n",
      "            npts: 8640000\n",
      "           calib: 1.0\n",
      "         _format: MSEED\n",
      "           mseed: AttribDict({'dataquality': 'D', 'number_of_records': 2293, 'encoding': 'STEIM1', 'byteorder': '>', 'record_length': 4096, 'filesize': 9392128})\n"
     ]
    }
   ],
   "source": [
    "mseed_file = './downloads_mseeds/B921/PB.B921..EH1__20200901T000000Z__20200902T000000Z.mseed'\n",
    "stream = read(mseed_file)\n",
    "filename = os.path.basename(mseed_file).rstrip(\".mseed\")\n",
    "\n",
    "print(type(stream))\n",
    "print(stream)\n",
    "print(stream[0].stats)"
   ]
  }
 ],
 "metadata": {
  "kernelspec": {
   "display_name": ".venv",
   "language": "python",
   "name": "python3"
  },
  "language_info": {
   "codemirror_mode": {
    "name": "ipython",
    "version": 3
   },
   "file_extension": ".py",
   "mimetype": "text/x-python",
   "name": "python",
   "nbconvert_exporter": "python",
   "pygments_lexer": "ipython3",
   "version": "3.10.6"
  }
 },
 "nbformat": 4,
 "nbformat_minor": 2
}
